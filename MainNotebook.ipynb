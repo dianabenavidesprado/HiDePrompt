{
 "cells": [
  {
   "cell_type": "code",
   "execution_count": null,
   "id": "1c65321c",
   "metadata": {},
   "outputs": [],
   "source": [
    "import os\n",
    "os.system('cmd command')"
   ]
  },
  {
   "cell_type": "code",
   "execution_count": null,
   "id": "4842b918",
   "metadata": {},
   "outputs": [],
   "source": [
    "from google.colab import drive\n",
    "drive.mount('/content/drive')"
   ]
  },
  {
   "cell_type": "code",
   "execution_count": null,
   "id": "31ecb10e",
   "metadata": {},
   "outputs": [],
   "source": [
    "%cd /content/drive/MyDrive/HiDePrompt"
   ]
  },
  {
   "cell_type": "code",
   "execution_count": null,
   "id": "cd565e2a",
   "metadata": {},
   "outputs": [],
   "source": [
    "!pip install -q condacolab"
   ]
  },
  {
   "cell_type": "code",
   "execution_count": null,
   "id": "6a2473b5",
   "metadata": {},
   "outputs": [],
   "source": [
    "import condacolab\n",
    "condacolab.install()"
   ]
  },
  {
   "cell_type": "code",
   "execution_count": null,
   "id": "59ddd81a",
   "metadata": {},
   "outputs": [],
   "source": [
    "!pip install -r requirements.txt"
   ]
  },
  {
   "cell_type": "code",
   "execution_count": null,
   "id": "383f6206",
   "metadata": {},
   "outputs": [],
   "source": [
    "!bash /content/drive/MyDrive/HiDePrompt/train_cifar100_vit_nondist.sh"
   ]
  },
  {
   "cell_type": "code",
   "execution_count": null,
   "id": "902dd0fc",
   "metadata": {},
   "outputs": [],
   "source": []
  }
 ],
 "metadata": {
  "kernelspec": {
   "display_name": "Python 3 (ipykernel)",
   "language": "python",
   "name": "python3"
  },
  "language_info": {
   "codemirror_mode": {
    "name": "ipython",
    "version": 3
   },
   "file_extension": ".py",
   "mimetype": "text/x-python",
   "name": "python",
   "nbconvert_exporter": "python",
   "pygments_lexer": "ipython3",
   "version": "3.10.9"
  }
 },
 "nbformat": 4,
 "nbformat_minor": 5
}
