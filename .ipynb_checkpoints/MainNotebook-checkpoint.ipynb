{
 "cells": [
  {
   "cell_type": "code",
   "execution_count": null,
   "id": "1c65321c",
   "metadata": {},
   "outputs": [],
   "source": [
    "import os\n",
    "os.system('cmd command')"
   ]
  },
  {
   "cell_type": "code",
   "execution_count": null,
   "id": "4842b918",
   "metadata": {},
   "outputs": [],
   "source": [
    "from google.colab import drive\n",
    "drive.mount('/content/drive')"
   ]
  },
  {
   "cell_type": "code",
   "execution_count": null,
   "id": "31ecb10e",
   "metadata": {},
   "outputs": [],
   "source": [
    "%cd /content/drive/MyDrive/HiDePrompt"
   ]
  },
  {
   "cell_type": "code",
   "execution_count": null,
   "id": "cd565e2a",
   "metadata": {},
   "outputs": [],
   "source": [
    "!pip install -q condacolab"
   ]
  },
  {
   "cell_type": "code",
   "execution_count": null,
   "id": "6a2473b5",
   "metadata": {},
   "outputs": [],
   "source": [
    "import condacolab\n",
    "condacolab.install()"
   ]
  },
  {
   "cell_type": "code",
   "execution_count": null,
   "id": "59ddd81a",
   "metadata": {},
   "outputs": [],
   "source": [
    "!pip install -r requirements.txt"
   ]
  },
  {
   "cell_type": "code",
   "execution_count": null,
   "id": "383f6206",
   "metadata": {},
   "outputs": [],
   "source": [
    "python -m torch.distributed.launch \\\n",
    "        --nproc_per_node=8 \\\n",
    "        --use_env main.py \\\n",
    "        cifar100_hideprompt_5e \\\n",
    "        --original_model vit_base_patch16_224 \\\n",
    "        --model vit_base_patch16_224 \\\n",
    "        --batch-size 24 \\\n",
    "        --data-path ./datasets/ \\\n",
    "        --output_dir ./output/cifar100_sup21k_multi_centroid_mlp_2_seed$seed \\\n",
    "        --epochs 20 \\\n",
    "        --sched constant \\\n",
    "        --seed $seed \\\n",
    "        --train_inference_task_only \\\n",
    "        --lr 0.0005 "
   ]
  },
  {
   "cell_type": "code",
   "execution_count": null,
   "id": "902dd0fc",
   "metadata": {},
   "outputs": [],
   "source": [
    "python -m torch.distributed.launch \\\n",
    "        --nproc_per_node=8 \\\n",
    "        --master_port='29501' \\\n",
    "        --use_env main.py \\\n",
    "        cifar100_hideprompt_5e \\\n",
    "        --model vit_base_patch16_224 \\\n",
    "        --original_model vit_base_patch16_224 \\\n",
    "        --batch-size 24 \\\n",
    "        --epochs 50 \\\n",
    "        --data-path ./datasets \\\n",
    "        --ca_lr 0.005 \\\n",
    "        --crct_epochs 30 \\\n",
    "        --seed $seed \\\n",
    "        --prompt_momentum 0.01 \\\n",
    "        --reg 0.1 \\\n",
    "        --length 5 \\\n",
    "        --sched step \\\n",
    "        --larger_prompt_lr \\\n",
    "        --trained_original_model ./output/cifar100_sup21k_multi_centroid_mlp_2_seed$seed \\\n",
    "        --output_dir ./output/cifar100_vit_pe_seed$seed\n"
   ]
  }
 ],
 "metadata": {
  "kernelspec": {
   "display_name": "Python 3 (ipykernel)",
   "language": "python",
   "name": "python3"
  },
  "language_info": {
   "codemirror_mode": {
    "name": "ipython",
    "version": 3
   },
   "file_extension": ".py",
   "mimetype": "text/x-python",
   "name": "python",
   "nbconvert_exporter": "python",
   "pygments_lexer": "ipython3",
   "version": "3.10.9"
  }
 },
 "nbformat": 4,
 "nbformat_minor": 5
}
